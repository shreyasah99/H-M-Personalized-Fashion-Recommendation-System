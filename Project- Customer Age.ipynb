{
 "cells": [
  {
   "cell_type": "code",
   "execution_count": null,
   "id": "9166ae1b",
   "metadata": {},
   "outputs": [],
   "source": [
    "# Taken inspiration from the notebook:- https://www.kaggle.com/code/hechtjp/h-m-eda-rule-base-by-customer-age"
   ]
  },
  {
   "cell_type": "code",
   "execution_count": 1,
   "id": "f0663697",
   "metadata": {},
   "outputs": [],
   "source": [
    "# === General ===\n",
    "import sys, warnings, time, os, copy, gc, re, random, pickle\n",
    "warnings.filterwarnings('ignore')\n",
    "from IPython.display import display\n",
    "import matplotlib.pyplot as plt\n",
    "import numpy as np\n",
    "import pandas as pd\n",
    "# pd.set_option('display.max_rows', 50)\n",
    "# pd.set_option('display.max_columns', None)\n",
    "# pd.set_option(\"display.max_colwidth\", 10000)\n",
    "import seaborn as sns\n",
    "sns.set()\n",
    "from pandas.io.json import json_normalize\n",
    "from pprint import pprint\n",
    "from pathlib import Path\n",
    "from tqdm import tqdm\n",
    "tqdm.pandas()\n",
    "from collections import Counter\n",
    "from datetime import datetime, timedelta"
   ]
  },
  {
   "cell_type": "code",
   "execution_count": 2,
   "id": "0885f57d",
   "metadata": {},
   "outputs": [],
   "source": [
    "DEBUG = False"
   ]
  },
  {
   "cell_type": "code",
   "execution_count": 3,
   "id": "4c78f223",
   "metadata": {},
   "outputs": [],
   "source": [
    "def display_df(df, head=3):\n",
    "    print(f'The shape of df is {df.shape}.\\n')\n",
    "    display(df.head(head))"
   ]
  },
  {
   "cell_type": "code",
   "execution_count": 4,
   "id": "329b3a53",
   "metadata": {},
   "outputs": [
    {
     "name": "stdout",
     "output_type": "stream",
     "text": [
      "The shape of df is (105542, 3).\n",
      "\n"
     ]
    },
    {
     "data": {
      "text/html": [
       "<div>\n",
       "<style scoped>\n",
       "    .dataframe tbody tr th:only-of-type {\n",
       "        vertical-align: middle;\n",
       "    }\n",
       "\n",
       "    .dataframe tbody tr th {\n",
       "        vertical-align: top;\n",
       "    }\n",
       "\n",
       "    .dataframe thead th {\n",
       "        text-align: right;\n",
       "    }\n",
       "</style>\n",
       "<table border=\"1\" class=\"dataframe\">\n",
       "  <thead>\n",
       "    <tr style=\"text-align: right;\">\n",
       "      <th></th>\n",
       "      <th>article_id</th>\n",
       "      <th>product_group_name</th>\n",
       "      <th>perceived_colour_master_name</th>\n",
       "    </tr>\n",
       "  </thead>\n",
       "  <tbody>\n",
       "    <tr>\n",
       "      <th>0</th>\n",
       "      <td>108775015</td>\n",
       "      <td>Garment Upper body</td>\n",
       "      <td>Black</td>\n",
       "    </tr>\n",
       "    <tr>\n",
       "      <th>1</th>\n",
       "      <td>108775044</td>\n",
       "      <td>Garment Upper body</td>\n",
       "      <td>White</td>\n",
       "    </tr>\n",
       "    <tr>\n",
       "      <th>2</th>\n",
       "      <td>108775051</td>\n",
       "      <td>Garment Upper body</td>\n",
       "      <td>White</td>\n",
       "    </tr>\n",
       "  </tbody>\n",
       "</table>\n",
       "</div>"
      ],
      "text/plain": [
       "   article_id  product_group_name perceived_colour_master_name\n",
       "0   108775015  Garment Upper body                        Black\n",
       "1   108775044  Garment Upper body                        White\n",
       "2   108775051  Garment Upper body                        White"
      ]
     },
     "metadata": {},
     "output_type": "display_data"
    }
   ],
   "source": [
    "article_data = pd.read_csv(\"../articles.csv\", usecols=['article_id', \"product_group_name\", \"perceived_colour_master_name\"])\n",
    "display_df(article_data, head=3)"
   ]
  },
  {
   "cell_type": "code",
   "execution_count": 5,
   "id": "aaaa6bd7",
   "metadata": {},
   "outputs": [
    {
     "name": "stdout",
     "output_type": "stream",
     "text": [
      "The shape of df is (1371980, 2).\n",
      "\n"
     ]
    },
    {
     "data": {
      "text/html": [
       "<div>\n",
       "<style scoped>\n",
       "    .dataframe tbody tr th:only-of-type {\n",
       "        vertical-align: middle;\n",
       "    }\n",
       "\n",
       "    .dataframe tbody tr th {\n",
       "        vertical-align: top;\n",
       "    }\n",
       "\n",
       "    .dataframe thead th {\n",
       "        text-align: right;\n",
       "    }\n",
       "</style>\n",
       "<table border=\"1\" class=\"dataframe\">\n",
       "  <thead>\n",
       "    <tr style=\"text-align: right;\">\n",
       "      <th></th>\n",
       "      <th>customer_id</th>\n",
       "      <th>age</th>\n",
       "    </tr>\n",
       "  </thead>\n",
       "  <tbody>\n",
       "    <tr>\n",
       "      <th>0</th>\n",
       "      <td>00000dbacae5abe5e23885899a1fa44253a17956c6d1c3...</td>\n",
       "      <td>49.0</td>\n",
       "    </tr>\n",
       "    <tr>\n",
       "      <th>1</th>\n",
       "      <td>0000423b00ade91418cceaf3b26c6af3dd342b51fd051e...</td>\n",
       "      <td>25.0</td>\n",
       "    </tr>\n",
       "    <tr>\n",
       "      <th>2</th>\n",
       "      <td>000058a12d5b43e67d225668fa1f8d618c13dc232df0ca...</td>\n",
       "      <td>24.0</td>\n",
       "    </tr>\n",
       "  </tbody>\n",
       "</table>\n",
       "</div>"
      ],
      "text/plain": [
       "                                         customer_id   age\n",
       "0  00000dbacae5abe5e23885899a1fa44253a17956c6d1c3...  49.0\n",
       "1  0000423b00ade91418cceaf3b26c6af3dd342b51fd051e...  25.0\n",
       "2  000058a12d5b43e67d225668fa1f8d618c13dc232df0ca...  24.0"
      ]
     },
     "metadata": {},
     "output_type": "display_data"
    }
   ],
   "source": [
    "customer_data = pd.read_csv(\"../customers.csv\", usecols=['customer_id', 'age'])\n",
    "display_df(customer_data, head=3)"
   ]
  },
  {
   "cell_type": "code",
   "execution_count": 6,
   "id": "1cda9329",
   "metadata": {},
   "outputs": [
    {
     "name": "stdout",
     "output_type": "stream",
     "text": [
      "The shape of df is (1371980, 3).\n",
      "\n"
     ]
    },
    {
     "data": {
      "text/html": [
       "<div>\n",
       "<style scoped>\n",
       "    .dataframe tbody tr th:only-of-type {\n",
       "        vertical-align: middle;\n",
       "    }\n",
       "\n",
       "    .dataframe tbody tr th {\n",
       "        vertical-align: top;\n",
       "    }\n",
       "\n",
       "    .dataframe thead th {\n",
       "        text-align: right;\n",
       "    }\n",
       "</style>\n",
       "<table border=\"1\" class=\"dataframe\">\n",
       "  <thead>\n",
       "    <tr style=\"text-align: right;\">\n",
       "      <th></th>\n",
       "      <th>customer_id</th>\n",
       "      <th>age</th>\n",
       "      <th>age_bins</th>\n",
       "    </tr>\n",
       "  </thead>\n",
       "  <tbody>\n",
       "    <tr>\n",
       "      <th>0</th>\n",
       "      <td>00000dbacae5abe5e23885899a1fa44253a17956c6d1c3...</td>\n",
       "      <td>49.0</td>\n",
       "      <td>(39, 49]</td>\n",
       "    </tr>\n",
       "    <tr>\n",
       "      <th>1</th>\n",
       "      <td>0000423b00ade91418cceaf3b26c6af3dd342b51fd051e...</td>\n",
       "      <td>25.0</td>\n",
       "      <td>(19, 29]</td>\n",
       "    </tr>\n",
       "    <tr>\n",
       "      <th>2</th>\n",
       "      <td>000058a12d5b43e67d225668fa1f8d618c13dc232df0ca...</td>\n",
       "      <td>24.0</td>\n",
       "      <td>(19, 29]</td>\n",
       "    </tr>\n",
       "  </tbody>\n",
       "</table>\n",
       "</div>"
      ],
      "text/plain": [
       "                                         customer_id   age  age_bins\n",
       "0  00000dbacae5abe5e23885899a1fa44253a17956c6d1c3...  49.0  (39, 49]\n",
       "1  0000423b00ade91418cceaf3b26c6af3dd342b51fd051e...  25.0  (19, 29]\n",
       "2  000058a12d5b43e67d225668fa1f8d618c13dc232df0ca...  24.0  (19, 29]"
      ]
     },
     "metadata": {},
     "output_type": "display_data"
    }
   ],
   "source": [
    "# customer_data = customer_data.to_pandas()\n",
    "listBin = [-1, 19, 29, 39, 49, 59, 69, 119]\n",
    "customer_data['age_bins'] = pd.cut(customer_data['age'], listBin)\n",
    "display_df(customer_data, head=3)"
   ]
  },
  {
   "cell_type": "code",
   "execution_count": 7,
   "id": "33b334b7",
   "metadata": {},
   "outputs": [
    {
     "name": "stdout",
     "output_type": "stream",
     "text": [
      "15861 customer_id does not have age information.\n",
      "\n"
     ]
    }
   ],
   "source": [
    "x = customer_data[customer_data['age_bins'].isnull()].shape[0]\n",
    "print(f'{x} customer_id does not have age information.\\n')"
   ]
  },
  {
   "cell_type": "code",
   "execution_count": 8,
   "id": "b5888dbb",
   "metadata": {},
   "outputs": [
    {
     "name": "stdout",
     "output_type": "stream",
     "text": [
      "The shape of df is (31788324, 2).\n",
      "\n"
     ]
    },
    {
     "data": {
      "text/html": [
       "<div>\n",
       "<style scoped>\n",
       "    .dataframe tbody tr th:only-of-type {\n",
       "        vertical-align: middle;\n",
       "    }\n",
       "\n",
       "    .dataframe tbody tr th {\n",
       "        vertical-align: top;\n",
       "    }\n",
       "\n",
       "    .dataframe thead th {\n",
       "        text-align: right;\n",
       "    }\n",
       "</style>\n",
       "<table border=\"1\" class=\"dataframe\">\n",
       "  <thead>\n",
       "    <tr style=\"text-align: right;\">\n",
       "      <th></th>\n",
       "      <th>customer_id</th>\n",
       "      <th>article_id</th>\n",
       "    </tr>\n",
       "    <tr>\n",
       "      <th>t_dat</th>\n",
       "      <th></th>\n",
       "      <th></th>\n",
       "    </tr>\n",
       "  </thead>\n",
       "  <tbody>\n",
       "    <tr>\n",
       "      <th>2018-09-20</th>\n",
       "      <td>000058a12d5b43e67d225668fa1f8d618c13dc232df0ca...</td>\n",
       "      <td>663713001</td>\n",
       "    </tr>\n",
       "    <tr>\n",
       "      <th>2018-09-20</th>\n",
       "      <td>000058a12d5b43e67d225668fa1f8d618c13dc232df0ca...</td>\n",
       "      <td>541518023</td>\n",
       "    </tr>\n",
       "    <tr>\n",
       "      <th>2018-09-20</th>\n",
       "      <td>00007d2de826758b65a93dd24ce629ed66842531df6699...</td>\n",
       "      <td>505221004</td>\n",
       "    </tr>\n",
       "  </tbody>\n",
       "</table>\n",
       "</div>"
      ],
      "text/plain": [
       "                                                  customer_id  article_id\n",
       "t_dat                                                                    \n",
       "2018-09-20  000058a12d5b43e67d225668fa1f8d618c13dc232df0ca...   663713001\n",
       "2018-09-20  000058a12d5b43e67d225668fa1f8d618c13dc232df0ca...   541518023\n",
       "2018-09-20  00007d2de826758b65a93dd24ce629ed66842531df6699...   505221004"
      ]
     },
     "metadata": {},
     "output_type": "display_data"
    }
   ],
   "source": [
    "transaction_data = pd.read_csv(\"../transactions_train.csv\", usecols=['t_dat', 'customer_id', 'article_id'],\n",
    "                               dtype={'article_id': 'int32', 't_dat': 'string', 'customer_id': 'string'})\n",
    "transaction_data['t_dat'] = pd.to_datetime(transaction_data['t_dat'])\n",
    "transaction_data.set_index('t_dat', inplace=True)\n",
    "display_df(transaction_data, head=3)"
   ]
  },
  {
   "cell_type": "code",
   "execution_count": 9,
   "id": "9e3b8368",
   "metadata": {},
   "outputs": [
    {
     "name": "stdout",
     "output_type": "stream",
     "text": [
      "The shape of df is (31788324, 2).\n",
      "\n"
     ]
    },
    {
     "data": {
      "text/html": [
       "<div>\n",
       "<style scoped>\n",
       "    .dataframe tbody tr th:only-of-type {\n",
       "        vertical-align: middle;\n",
       "    }\n",
       "\n",
       "    .dataframe tbody tr th {\n",
       "        vertical-align: top;\n",
       "    }\n",
       "\n",
       "    .dataframe thead th {\n",
       "        text-align: right;\n",
       "    }\n",
       "</style>\n",
       "<table border=\"1\" class=\"dataframe\">\n",
       "  <thead>\n",
       "    <tr style=\"text-align: right;\">\n",
       "      <th></th>\n",
       "      <th>customer_id</th>\n",
       "      <th>article_id</th>\n",
       "    </tr>\n",
       "    <tr>\n",
       "      <th>t_dat</th>\n",
       "      <th></th>\n",
       "      <th></th>\n",
       "    </tr>\n",
       "  </thead>\n",
       "  <tbody>\n",
       "    <tr>\n",
       "      <th>2018-09-20</th>\n",
       "      <td>000058a12d5b43e67d225668fa1f8d618c13dc232df0ca...</td>\n",
       "      <td>663713001</td>\n",
       "    </tr>\n",
       "    <tr>\n",
       "      <th>2018-09-20</th>\n",
       "      <td>000058a12d5b43e67d225668fa1f8d618c13dc232df0ca...</td>\n",
       "      <td>541518023</td>\n",
       "    </tr>\n",
       "    <tr>\n",
       "      <th>2018-09-20</th>\n",
       "      <td>00007d2de826758b65a93dd24ce629ed66842531df6699...</td>\n",
       "      <td>505221004</td>\n",
       "    </tr>\n",
       "  </tbody>\n",
       "</table>\n",
       "</div>"
      ],
      "text/plain": [
       "                                                  customer_id  article_id\n",
       "t_dat                                                                    \n",
       "2018-09-20  000058a12d5b43e67d225668fa1f8d618c13dc232df0ca...   663713001\n",
       "2018-09-20  000058a12d5b43e67d225668fa1f8d618c13dc232df0ca...   541518023\n",
       "2018-09-20  00007d2de826758b65a93dd24ce629ed66842531df6699...   505221004"
      ]
     },
     "metadata": {},
     "output_type": "display_data"
    }
   ],
   "source": [
    "dfRecent = transaction_data.loc['2020-09-01' : '2020-09-21']\n",
    "display_df(transaction_data, head=3)"
   ]
  },
  {
   "cell_type": "code",
   "execution_count": 10,
   "id": "7018d0d6",
   "metadata": {},
   "outputs": [
    {
     "name": "stdout",
     "output_type": "stream",
     "text": [
      "The shape of df is (765403, 3).\n",
      "\n"
     ]
    },
    {
     "data": {
      "text/html": [
       "<div>\n",
       "<style scoped>\n",
       "    .dataframe tbody tr th:only-of-type {\n",
       "        vertical-align: middle;\n",
       "    }\n",
       "\n",
       "    .dataframe tbody tr th {\n",
       "        vertical-align: top;\n",
       "    }\n",
       "\n",
       "    .dataframe thead th {\n",
       "        text-align: right;\n",
       "    }\n",
       "</style>\n",
       "<table border=\"1\" class=\"dataframe\">\n",
       "  <thead>\n",
       "    <tr style=\"text-align: right;\">\n",
       "      <th></th>\n",
       "      <th>customer_id</th>\n",
       "      <th>article_id</th>\n",
       "      <th>age_bins</th>\n",
       "    </tr>\n",
       "  </thead>\n",
       "  <tbody>\n",
       "    <tr>\n",
       "      <th>0</th>\n",
       "      <td>0001d44dbe7f6c4b35200abdb052c77a87596fe1bdcc37...</td>\n",
       "      <td>777148006</td>\n",
       "      <td>(39, 49]</td>\n",
       "    </tr>\n",
       "    <tr>\n",
       "      <th>1</th>\n",
       "      <td>0001d44dbe7f6c4b35200abdb052c77a87596fe1bdcc37...</td>\n",
       "      <td>835801001</td>\n",
       "      <td>(39, 49]</td>\n",
       "    </tr>\n",
       "    <tr>\n",
       "      <th>2</th>\n",
       "      <td>0001d44dbe7f6c4b35200abdb052c77a87596fe1bdcc37...</td>\n",
       "      <td>923134005</td>\n",
       "      <td>(39, 49]</td>\n",
       "    </tr>\n",
       "  </tbody>\n",
       "</table>\n",
       "</div>"
      ],
      "text/plain": [
       "                                         customer_id  article_id  age_bins\n",
       "0  0001d44dbe7f6c4b35200abdb052c77a87596fe1bdcc37...   777148006  (39, 49]\n",
       "1  0001d44dbe7f6c4b35200abdb052c77a87596fe1bdcc37...   835801001  (39, 49]\n",
       "2  0001d44dbe7f6c4b35200abdb052c77a87596fe1bdcc37...   923134005  (39, 49]"
      ]
     },
     "metadata": {},
     "output_type": "display_data"
    }
   ],
   "source": [
    "# dfRecent = dfRecent.to_pandas()\n",
    "dfRecent = dfRecent.merge(customer_data[['customer_id', 'age_bins']], on='customer_id', how='inner')\n",
    "display_df(dfRecent, head=3)"
   ]
  },
  {
   "cell_type": "code",
   "execution_count": 11,
   "id": "3bf1886a",
   "metadata": {},
   "outputs": [],
   "source": [
    "dfRecent = dfRecent.groupby(['age_bins', 'article_id']).count().reset_index().rename(columns={'customer_id': 'counts'})\n",
    "\n",
    "listUniBins = dfRecent['age_bins'].unique().tolist()\n",
    "\n",
    "dict100 = {}\n",
    "for uniBin in listUniBins:\n",
    "    dfTemp = dfRecent[dfRecent['age_bins'] == uniBin]\n",
    "    dfTemp = dfTemp.sort_values(by='counts', ascending=False)\n",
    "    dict100[uniBin] = dfTemp.head(100)['article_id'].values.tolist()\n",
    "\n",
    "df100 = pd.DataFrame([dict100]).T.rename(columns={0:'top100'})"
   ]
  },
  {
   "cell_type": "code",
   "execution_count": 12,
   "id": "86dd96c8",
   "metadata": {},
   "outputs": [
    {
     "data": {
      "text/plain": [
       "<AxesSubplot:>"
      ]
     },
     "execution_count": 12,
     "metadata": {},
     "output_type": "execute_result"
    },
    {
     "data": {
      "image/png": "[encoded data removed]",
      "text/plain": [
       "<Figure size 720x432 with 1 Axes>"
      ]
     },
     "metadata": {},
     "output_type": "display_data"
    }
   ],
   "source": [
    "for index in df100.index:\n",
    "    df100[index] = [len(set(df100.at[index, 'top100']) & set(df100.at[x, 'top100']))/100 for x in df100.index]\n",
    "\n",
    "df100 = df100.drop(columns='top100')\n",
    "plt.figure(figsize=(10, 6))\n",
    "sns.heatmap(df100, annot=True, cbar=False)"
   ]
  },
  {
   "cell_type": "code",
   "execution_count": 13,
   "id": "1e628caf",
   "metadata": {},
   "outputs": [],
   "source": [
    "N = 12\n",
    "listUniBins = customer_data['age_bins'].unique().tolist()"
   ]
  },
  {
   "cell_type": "code",
   "execution_count": 14,
   "id": "18348c9d",
   "metadata": {},
   "outputs": [
    {
     "name": "stdout",
     "output_type": "stream",
     "text": [
      "The shape of scope transaction for (39.0, 49.0] is (4908363, 4). \n",
      "\n",
      "Saved prediction for (39.0, 49.0]. The shape is (204118, 2). \n",
      "\n",
      "--------------------------------------------------\n",
      "The shape of scope transaction for (19.0, 29.0] is (13058587, 4). \n",
      "\n",
      "Saved prediction for (19.0, 29.0]. The shape is (528358, 2). \n",
      "\n",
      "--------------------------------------------------\n",
      "The shape of scope transaction for (49.0, 59.0] is (5136958, 4). \n",
      "\n",
      "Saved prediction for (49.0, 59.0]. The shape is (226242, 2). \n",
      "\n",
      "--------------------------------------------------\n",
      "The shape of scope transaction for nan is (140258, 4). \n",
      "\n",
      "Saved prediction for nan. The shape is (15861, 2). \n",
      "\n",
      "--------------------------------------------------\n",
      "The shape of scope transaction for (29.0, 39.0] is (6428863, 4). \n",
      "\n",
      "Saved prediction for (29.0, 39.0]. The shape is (234068, 2). \n",
      "\n",
      "--------------------------------------------------\n",
      "The shape of scope transaction for (69.0, 119.0] is (220067, 4). \n",
      "\n",
      "Saved prediction for (69.0, 119.0]. The shape is (19127, 2). \n",
      "\n",
      "--------------------------------------------------\n",
      "The shape of scope transaction for (59.0, 69.0] is (1203826, 4). \n",
      "\n",
      "Saved prediction for (59.0, 69.0]. The shape is (72623, 2). \n",
      "\n",
      "--------------------------------------------------\n",
      "The shape of scope transaction for (-1.0, 19.0] is (691402, 4). \n",
      "\n",
      "Saved prediction for (-1.0, 19.0]. The shape is (71583, 2). \n",
      "\n",
      "--------------------------------------------------\n",
      "Finished.\n",
      "\n",
      "==================================================\n"
     ]
    }
   ],
   "source": [
    "for uniBin in listUniBins:\n",
    "    df  = pd.read_csv(\"../transactions_train.csv\",\n",
    "                            usecols= ['t_dat', 'customer_id', 'article_id'], \n",
    "                            dtype={'article_id': 'int32', 't_dat': 'string', 'customer_id': 'string'})\n",
    "    if str(uniBin) == 'nan':\n",
    "        customer_dataTemp = customer_data[customer_data['age_bins'].isnull()]\n",
    "    else:\n",
    "        customer_dataTemp = customer_data[customer_data['age_bins'] == uniBin]\n",
    "    \n",
    "    customer_dataTemp = customer_dataTemp.drop(['age_bins'], axis=1)\n",
    "#     customer_dataTemp = pd.from_pandas(customer_dataTemp)\n",
    "    \n",
    "    df = df.merge(customer_dataTemp[['customer_id', 'age']], on='customer_id', how='inner')\n",
    "    print(f'The shape of scope transaction for {uniBin} is {df.shape}. \\n')\n",
    "          \n",
    "#     df['customer_id'] = df['customer_id'].str[-16:].astype('str')\n",
    "#     df['customer_id'] = df['customer_id'].apply(lambda x: int(x, 16)).astype('int64')\n",
    "    df['t_dat'] = pd.to_datetime(df['t_dat'])\n",
    "    last_ts = df['t_dat'].max()\n",
    "\n",
    "#     tmp = df[['t_dat']].copy().to_pandas()\n",
    "    tmp = df[['t_dat']].copy()\n",
    "    tmp['dow'] = tmp['t_dat'].dt.dayofweek\n",
    "    tmp['ldbw'] = tmp['t_dat'] - pd.TimedeltaIndex(tmp['dow'] - 1, unit='D')\n",
    "    tmp.loc[tmp['dow'] >=2 , 'ldbw'] = tmp.loc[tmp['dow'] >=2 , 'ldbw'] + pd.TimedeltaIndex(np.ones(len(tmp.loc[tmp['dow'] >=2])) * 7, unit='D')\n",
    "\n",
    "    df['ldbw'] = tmp['ldbw'].values\n",
    "    \n",
    "    weekly_sales = df.drop('customer_id', axis=1).groupby(['ldbw', 'article_id']).count().reset_index()\n",
    "    weekly_sales = weekly_sales.rename(columns={'t_dat': 'count'})\n",
    "    \n",
    "    df = df.merge(weekly_sales, on=['ldbw', 'article_id'], how = 'left')\n",
    "    \n",
    "    weekly_sales = weekly_sales.reset_index().set_index('article_id')\n",
    "\n",
    "    df = df.merge(\n",
    "        weekly_sales.loc[weekly_sales['ldbw']==last_ts, ['count']],\n",
    "        on='article_id', suffixes=(\"\", \"_targ\"))\n",
    "\n",
    "    df['count_targ'].fillna(0, inplace=True)\n",
    "    del weekly_sales\n",
    "    \n",
    "    df['quotient'] = df['count_targ'] / df['count']\n",
    "    \n",
    "    target_sales = df.drop('customer_id', axis=1).groupby('article_id')['quotient'].sum()\n",
    "#     general_pred = target_sales.nlargest(N).index.to_pandas().tolist()\n",
    "    general_pred = target_sales.nlargest(N).index.tolist()\n",
    "    general_pred = ['0' + str(article_id) for article_id in general_pred]\n",
    "    general_pred_str =  ' '.join(general_pred)\n",
    "    del target_sales\n",
    "    \n",
    "    purchase_dict = {}\n",
    "\n",
    "#     tmp = df.copy().to_pandas()\n",
    "    tmp = df.copy()\n",
    "    tmp['x'] = ((last_ts - tmp['t_dat']) / np.timedelta64(1, 'D')).astype(int)\n",
    "    tmp['dummy_1'] = 1 \n",
    "    tmp['x'] = tmp[[\"x\", \"dummy_1\"]].max(axis=1)\n",
    "\n",
    "    a, b, c, d = 2.5e4, 1.5e5, 2e-1, 1e3\n",
    "    tmp['y'] = a / np.sqrt(tmp['x']) + b * np.exp(-c*tmp['x']) - d\n",
    "\n",
    "    tmp['dummy_0'] = 0 \n",
    "    tmp['y'] = tmp[[\"y\", \"dummy_0\"]].max(axis=1)\n",
    "    tmp['value'] = tmp['quotient'] * tmp['y'] \n",
    "\n",
    "    tmp = tmp.groupby(['customer_id', 'article_id']).agg({'value': 'sum'})\n",
    "    tmp = tmp.reset_index()\n",
    "\n",
    "    tmp = tmp.loc[tmp['value'] > 0]\n",
    "    tmp['rank'] = tmp.groupby(\"customer_id\")[\"value\"].rank(\"dense\", ascending=False)\n",
    "    tmp = tmp.loc[tmp['rank'] <= 12]\n",
    "\n",
    "    purchase_df = tmp.sort_values(['customer_id', 'value'], ascending = False).reset_index(drop = True)\n",
    "    purchase_df['prediction'] = '0' + purchase_df['article_id'].astype(str) + ' '\n",
    "    purchase_df = purchase_df.groupby('customer_id').agg({'prediction': sum}).reset_index()\n",
    "    purchase_df['prediction'] = purchase_df['prediction'].str.strip()\n",
    "    purchase_df = pd.DataFrame(purchase_df)\n",
    "    \n",
    "    sub  = pd.read_csv(\"../sample_submission.csv\",\n",
    "                            usecols= ['customer_id'], \n",
    "                            dtype={'customer_id': 'string'})\n",
    "    \n",
    "    numCustomers = sub.shape[0]\n",
    "    \n",
    "    sub = pd.merge(sub, customer_dataTemp[['customer_id', 'age']], on='customer_id', how='inner')\n",
    "\n",
    "#     sub['customer_id2'] = sub['customer_id'].str[-16:].astype('str')\n",
    "#     sub['customer_id2'] = sub['customer_id2'].apply(lambda x: int(x, 16)).astype('int64')\n",
    "\n",
    "    sub = pd.merge(sub, purchase_df, left_on = 'customer_id', right_on = 'customer_id', how = 'left',\n",
    "                   suffixes = ('', '_ignored'))\n",
    "\n",
    "#     sub = sub.to_pandas()\n",
    "    sub['prediction'] = sub['prediction'].fillna(general_pred_str)\n",
    "    sub['prediction'] = sub['prediction'] + ' ' +  general_pred_str\n",
    "    sub['prediction'] = sub['prediction'].str.strip()\n",
    "    sub['prediction'] = sub['prediction'].str[:131]\n",
    "    sub = sub[['customer_id', 'prediction']]\n",
    "    sub.to_csv(f'submission_' + str(uniBin) + '.csv',index=False)\n",
    "    print(f'Saved prediction for {uniBin}. The shape is {sub.shape}. \\n')\n",
    "    print('-'*50)\n",
    "    \n",
    "print('Finished.\\n')\n",
    "print('='*50)"
   ]
  },
  {
   "cell_type": "code",
   "execution_count": 15,
   "id": "5c34731f",
   "metadata": {},
   "outputs": [
    {
     "name": "stdout",
     "output_type": "stream",
     "text": [
      "Saved submission.csv.\n"
     ]
    }
   ],
   "source": [
    "for i, uniBin in enumerate(listUniBins):\n",
    "    dfTemp  = pd.read_csv(f\"../submission_\" + str(uniBin) + \".csv\")\n",
    "    if i == 0:\n",
    "        dfSub = dfTemp\n",
    "    else:\n",
    "        dfSub = pd.concat([dfSub, dfTemp], axis=0)\n",
    "\n",
    "assert dfSub.shape[0] == numCustomers, f'The number of dfSub rows is not correct. {dfSub.shape[0]} vs {numCustomers}.'\n",
    "\n",
    "dfSub.to_csv(f\"../submission.csv\", index=False)\n",
    "print(f\"Saved submission.csv.\")"
   ]
  },
  {
   "cell_type": "code",
   "execution_count": 16,
   "id": "ebbfba30",
   "metadata": {},
   "outputs": [
    {
     "name": "stdout",
     "output_type": "stream",
     "text": [
      "The shape of df is (1371980, 2).\n",
      "\n"
     ]
    },
    {
     "data": {
      "text/html": [
       "<div>\n",
       "<style scoped>\n",
       "    .dataframe tbody tr th:only-of-type {\n",
       "        vertical-align: middle;\n",
       "    }\n",
       "\n",
       "    .dataframe tbody tr th {\n",
       "        vertical-align: top;\n",
       "    }\n",
       "\n",
       "    .dataframe thead th {\n",
       "        text-align: right;\n",
       "    }\n",
       "</style>\n",
       "<table border=\"1\" class=\"dataframe\">\n",
       "  <thead>\n",
       "    <tr style=\"text-align: right;\">\n",
       "      <th></th>\n",
       "      <th>customer_id</th>\n",
       "      <th>prediction</th>\n",
       "    </tr>\n",
       "  </thead>\n",
       "  <tbody>\n",
       "    <tr>\n",
       "      <th>0</th>\n",
       "      <td>00000dbacae5abe5e23885899a1fa44253a17956c6d1c3...</td>\n",
       "      <td>0568601043 0568601006 0745232001 0751471001 04...</td>\n",
       "    </tr>\n",
       "    <tr>\n",
       "      <th>1</th>\n",
       "      <td>00009c2aeae8761f738e4f937d9be6b49861a66339c2b1...</td>\n",
       "      <td>0857690004 0841793002 0751471001 0448509014 05...</td>\n",
       "    </tr>\n",
       "    <tr>\n",
       "      <th>2</th>\n",
       "      <td>0000b95f630aaa9313028ce9c41154bb95ac7afa34f55b...</td>\n",
       "      <td>0751471001 0448509014 0579541001 0706016001 06...</td>\n",
       "    </tr>\n",
       "  </tbody>\n",
       "</table>\n",
       "</div>"
      ],
      "text/plain": [
       "                                         customer_id  \\\n",
       "0  00000dbacae5abe5e23885899a1fa44253a17956c6d1c3...   \n",
       "1  00009c2aeae8761f738e4f937d9be6b49861a66339c2b1...   \n",
       "2  0000b95f630aaa9313028ce9c41154bb95ac7afa34f55b...   \n",
       "\n",
       "                                          prediction  \n",
       "0  0568601043 0568601006 0745232001 0751471001 04...  \n",
       "1  0857690004 0841793002 0751471001 0448509014 05...  \n",
       "2  0751471001 0448509014 0579541001 0706016001 06...  "
      ]
     },
     "metadata": {},
     "output_type": "display_data"
    }
   ],
   "source": [
    "dfCheck = pd.read_csv(\"../submission.csv\")\n",
    "display_df(dfCheck, head=3)"
   ]
  },
  {
   "cell_type": "code",
   "execution_count": 20,
   "id": "f3e45f93",
   "metadata": {},
   "outputs": [
    {
     "data": {
      "text/html": [
       "<div>\n",
       "<style scoped>\n",
       "    .dataframe tbody tr th:only-of-type {\n",
       "        vertical-align: middle;\n",
       "    }\n",
       "\n",
       "    .dataframe tbody tr th {\n",
       "        vertical-align: top;\n",
       "    }\n",
       "\n",
       "    .dataframe thead th {\n",
       "        text-align: right;\n",
       "    }\n",
       "</style>\n",
       "<table border=\"1\" class=\"dataframe\">\n",
       "  <thead>\n",
       "    <tr style=\"text-align: right;\">\n",
       "      <th></th>\n",
       "      <th>(-1, 19]</th>\n",
       "      <th>(19, 29]</th>\n",
       "      <th>(29, 39]</th>\n",
       "      <th>(39, 49]</th>\n",
       "      <th>(49, 59]</th>\n",
       "      <th>(59, 69]</th>\n",
       "      <th>(69, 119]</th>\n",
       "    </tr>\n",
       "  </thead>\n",
       "  <tbody>\n",
       "    <tr>\n",
       "      <th>(-1, 19]</th>\n",
       "      <td>1.00</td>\n",
       "      <td>0.44</td>\n",
       "      <td>0.24</td>\n",
       "      <td>0.38</td>\n",
       "      <td>0.23</td>\n",
       "      <td>0.11</td>\n",
       "      <td>0.09</td>\n",
       "    </tr>\n",
       "    <tr>\n",
       "      <th>(19, 29]</th>\n",
       "      <td>0.44</td>\n",
       "      <td>1.00</td>\n",
       "      <td>0.59</td>\n",
       "      <td>0.49</td>\n",
       "      <td>0.45</td>\n",
       "      <td>0.29</td>\n",
       "      <td>0.21</td>\n",
       "    </tr>\n",
       "    <tr>\n",
       "      <th>(29, 39]</th>\n",
       "      <td>0.24</td>\n",
       "      <td>0.59</td>\n",
       "      <td>1.00</td>\n",
       "      <td>0.51</td>\n",
       "      <td>0.45</td>\n",
       "      <td>0.38</td>\n",
       "      <td>0.29</td>\n",
       "    </tr>\n",
       "    <tr>\n",
       "      <th>(39, 49]</th>\n",
       "      <td>0.38</td>\n",
       "      <td>0.49</td>\n",
       "      <td>0.51</td>\n",
       "      <td>1.00</td>\n",
       "      <td>0.59</td>\n",
       "      <td>0.44</td>\n",
       "      <td>0.35</td>\n",
       "    </tr>\n",
       "    <tr>\n",
       "      <th>(49, 59]</th>\n",
       "      <td>0.23</td>\n",
       "      <td>0.45</td>\n",
       "      <td>0.45</td>\n",
       "      <td>0.59</td>\n",
       "      <td>1.00</td>\n",
       "      <td>0.68</td>\n",
       "      <td>0.50</td>\n",
       "    </tr>\n",
       "    <tr>\n",
       "      <th>(59, 69]</th>\n",
       "      <td>0.11</td>\n",
       "      <td>0.29</td>\n",
       "      <td>0.38</td>\n",
       "      <td>0.44</td>\n",
       "      <td>0.68</td>\n",
       "      <td>1.00</td>\n",
       "      <td>0.60</td>\n",
       "    </tr>\n",
       "    <tr>\n",
       "      <th>(69, 119]</th>\n",
       "      <td>0.09</td>\n",
       "      <td>0.21</td>\n",
       "      <td>0.29</td>\n",
       "      <td>0.35</td>\n",
       "      <td>0.50</td>\n",
       "      <td>0.60</td>\n",
       "      <td>1.00</td>\n",
       "    </tr>\n",
       "  </tbody>\n",
       "</table>\n",
       "</div>"
      ],
      "text/plain": [
       "           (-1, 19]  (19, 29]  (29, 39]  (39, 49]  (49, 59]  (59, 69]  \\\n",
       "(-1, 19]       1.00      0.44      0.24      0.38      0.23      0.11   \n",
       "(19, 29]       0.44      1.00      0.59      0.49      0.45      0.29   \n",
       "(29, 39]       0.24      0.59      1.00      0.51      0.45      0.38   \n",
       "(39, 49]       0.38      0.49      0.51      1.00      0.59      0.44   \n",
       "(49, 59]       0.23      0.45      0.45      0.59      1.00      0.68   \n",
       "(59, 69]       0.11      0.29      0.38      0.44      0.68      1.00   \n",
       "(69, 119]      0.09      0.21      0.29      0.35      0.50      0.60   \n",
       "\n",
       "           (69, 119]  \n",
       "(-1, 19]        0.09  \n",
       "(19, 29]        0.21  \n",
       "(29, 39]        0.29  \n",
       "(39, 49]        0.35  \n",
       "(49, 59]        0.50  \n",
       "(59, 69]        0.60  \n",
       "(69, 119]       1.00  "
      ]
     },
     "execution_count": 20,
     "metadata": {},
     "output_type": "execute_result"
    }
   ],
   "source": [
    "df100 "
   ]
  },
  {
   "cell_type": "code",
   "execution_count": null,
   "id": "8ce2178e",
   "metadata": {},
   "outputs": [],
   "source": []
  }
 ],
 "metadata": {
  "kernelspec": {
   "display_name": "Python 3 (ipykernel)",
   "language": "python",
   "name": "python3"
  },
  "language_info": {
   "codemirror_mode": {
    "name": "ipython",
    "version": 3
   },
   "file_extension": ".py",
   "mimetype": "text/x-python",
   "name": "python",
   "nbconvert_exporter": "python",
   "pygments_lexer": "ipython3",
   "version": "3.9.7"
  }
 },
 "nbformat": 4,
 "nbformat_minor": 5
}
